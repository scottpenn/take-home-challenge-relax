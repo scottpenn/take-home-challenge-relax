{
 "cells": [
  {
   "cell_type": "code",
   "execution_count": 1,
   "metadata": {},
   "outputs": [],
   "source": [
    "import pandas as pd\n",
    "import numpy as np\n",
    "import matplotlib.pyplot as plt"
   ]
  },
  {
   "cell_type": "code",
   "execution_count": 2,
   "metadata": {},
   "outputs": [],
   "source": [
    "users = pd.read_csv('../data/raw/takehome_users.csv', index_col='object_id', encoding='latin-1')"
   ]
  },
  {
   "cell_type": "code",
   "execution_count": 3,
   "metadata": {},
   "outputs": [
    {
     "data": {
      "text/html": [
       "<div>\n",
       "<style scoped>\n",
       "    .dataframe tbody tr th:only-of-type {\n",
       "        vertical-align: middle;\n",
       "    }\n",
       "\n",
       "    .dataframe tbody tr th {\n",
       "        vertical-align: top;\n",
       "    }\n",
       "\n",
       "    .dataframe thead th {\n",
       "        text-align: right;\n",
       "    }\n",
       "</style>\n",
       "<table border=\"1\" class=\"dataframe\">\n",
       "  <thead>\n",
       "    <tr style=\"text-align: right;\">\n",
       "      <th></th>\n",
       "      <th>creation_time</th>\n",
       "      <th>name</th>\n",
       "      <th>email</th>\n",
       "      <th>creation_source</th>\n",
       "      <th>last_session_creation_time</th>\n",
       "      <th>opted_in_to_mailing_list</th>\n",
       "      <th>enabled_for_marketing_drip</th>\n",
       "      <th>org_id</th>\n",
       "      <th>invited_by_user_id</th>\n",
       "    </tr>\n",
       "    <tr>\n",
       "      <th>object_id</th>\n",
       "      <th></th>\n",
       "      <th></th>\n",
       "      <th></th>\n",
       "      <th></th>\n",
       "      <th></th>\n",
       "      <th></th>\n",
       "      <th></th>\n",
       "      <th></th>\n",
       "      <th></th>\n",
       "    </tr>\n",
       "  </thead>\n",
       "  <tbody>\n",
       "    <tr>\n",
       "      <th>1</th>\n",
       "      <td>2014-04-22 03:53:30</td>\n",
       "      <td>Clausen August</td>\n",
       "      <td>AugustCClausen@yahoo.com</td>\n",
       "      <td>GUEST_INVITE</td>\n",
       "      <td>1.398139e+09</td>\n",
       "      <td>1</td>\n",
       "      <td>0</td>\n",
       "      <td>11</td>\n",
       "      <td>10803.0</td>\n",
       "    </tr>\n",
       "    <tr>\n",
       "      <th>2</th>\n",
       "      <td>2013-11-15 03:45:04</td>\n",
       "      <td>Poole Matthew</td>\n",
       "      <td>MatthewPoole@gustr.com</td>\n",
       "      <td>ORG_INVITE</td>\n",
       "      <td>1.396238e+09</td>\n",
       "      <td>0</td>\n",
       "      <td>0</td>\n",
       "      <td>1</td>\n",
       "      <td>316.0</td>\n",
       "    </tr>\n",
       "    <tr>\n",
       "      <th>3</th>\n",
       "      <td>2013-03-19 23:14:52</td>\n",
       "      <td>Bottrill Mitchell</td>\n",
       "      <td>MitchellBottrill@gustr.com</td>\n",
       "      <td>ORG_INVITE</td>\n",
       "      <td>1.363735e+09</td>\n",
       "      <td>0</td>\n",
       "      <td>0</td>\n",
       "      <td>94</td>\n",
       "      <td>1525.0</td>\n",
       "    </tr>\n",
       "    <tr>\n",
       "      <th>4</th>\n",
       "      <td>2013-05-21 08:09:28</td>\n",
       "      <td>Clausen Nicklas</td>\n",
       "      <td>NicklasSClausen@yahoo.com</td>\n",
       "      <td>GUEST_INVITE</td>\n",
       "      <td>1.369210e+09</td>\n",
       "      <td>0</td>\n",
       "      <td>0</td>\n",
       "      <td>1</td>\n",
       "      <td>5151.0</td>\n",
       "    </tr>\n",
       "    <tr>\n",
       "      <th>5</th>\n",
       "      <td>2013-01-17 10:14:20</td>\n",
       "      <td>Raw Grace</td>\n",
       "      <td>GraceRaw@yahoo.com</td>\n",
       "      <td>GUEST_INVITE</td>\n",
       "      <td>1.358850e+09</td>\n",
       "      <td>0</td>\n",
       "      <td>0</td>\n",
       "      <td>193</td>\n",
       "      <td>5240.0</td>\n",
       "    </tr>\n",
       "  </tbody>\n",
       "</table>\n",
       "</div>"
      ],
      "text/plain": [
       "                 creation_time               name                       email  \\\n",
       "object_id                                                                       \n",
       "1          2014-04-22 03:53:30     Clausen August    AugustCClausen@yahoo.com   \n",
       "2          2013-11-15 03:45:04      Poole Matthew      MatthewPoole@gustr.com   \n",
       "3          2013-03-19 23:14:52  Bottrill Mitchell  MitchellBottrill@gustr.com   \n",
       "4          2013-05-21 08:09:28    Clausen Nicklas   NicklasSClausen@yahoo.com   \n",
       "5          2013-01-17 10:14:20          Raw Grace          GraceRaw@yahoo.com   \n",
       "\n",
       "          creation_source  last_session_creation_time  \\\n",
       "object_id                                               \n",
       "1            GUEST_INVITE                1.398139e+09   \n",
       "2              ORG_INVITE                1.396238e+09   \n",
       "3              ORG_INVITE                1.363735e+09   \n",
       "4            GUEST_INVITE                1.369210e+09   \n",
       "5            GUEST_INVITE                1.358850e+09   \n",
       "\n",
       "           opted_in_to_mailing_list  enabled_for_marketing_drip  org_id  \\\n",
       "object_id                                                                 \n",
       "1                                 1                           0      11   \n",
       "2                                 0                           0       1   \n",
       "3                                 0                           0      94   \n",
       "4                                 0                           0       1   \n",
       "5                                 0                           0     193   \n",
       "\n",
       "           invited_by_user_id  \n",
       "object_id                      \n",
       "1                     10803.0  \n",
       "2                       316.0  \n",
       "3                      1525.0  \n",
       "4                      5151.0  \n",
       "5                      5240.0  "
      ]
     },
     "execution_count": 3,
     "metadata": {},
     "output_type": "execute_result"
    }
   ],
   "source": [
    "users.head()"
   ]
  },
  {
   "cell_type": "code",
   "execution_count": 27,
   "metadata": {
    "scrolled": true
   },
   "outputs": [
    {
     "name": "stdout",
     "output_type": "stream",
     "text": [
      "<class 'pandas.core.frame.DataFrame'>\n",
      "Int64Index: 12000 entries, 1 to 12000\n",
      "Data columns (total 11 columns):\n",
      "creation_time                 12000 non-null object\n",
      "name                          12000 non-null object\n",
      "email                         12000 non-null object\n",
      "creation_source               12000 non-null object\n",
      "last_session_creation_time    8823 non-null float64\n",
      "opted_in_to_mailing_list      12000 non-null int64\n",
      "enabled_for_marketing_drip    12000 non-null int64\n",
      "org_id                        12000 non-null int64\n",
      "invited_by_user_id            6417 non-null float64\n",
      "adopted_user                  12000 non-null int64\n",
      "invited_by_adopted_user       12000 non-null int64\n",
      "dtypes: float64(2), int64(5), object(4)\n",
      "memory usage: 1.4+ MB\n"
     ]
    }
   ],
   "source": [
    "users.info()"
   ]
  },
  {
   "cell_type": "code",
   "execution_count": 5,
   "metadata": {},
   "outputs": [],
   "source": [
    "engagement = pd.read_csv('../data/raw/takehome_user_engagement.csv',\n",
    "                         parse_dates=['time_stamp'],\n",
    "                         index_col='time_stamp')"
   ]
  },
  {
   "cell_type": "code",
   "execution_count": 111,
   "metadata": {},
   "outputs": [
    {
     "name": "stdout",
     "output_type": "stream",
     "text": [
      "<class 'pandas.core.frame.DataFrame'>\n",
      "DatetimeIndex: 207917 entries, 2014-04-22 03:53:30 to 2014-01-26 08:57:12\n",
      "Data columns (total 2 columns):\n",
      "user_id    207917 non-null int64\n",
      "visited    207917 non-null int64\n",
      "dtypes: int64(2)\n",
      "memory usage: 4.8 MB\n"
     ]
    }
   ],
   "source": [
    "engagement.info()"
   ]
  },
  {
   "cell_type": "code",
   "execution_count": 6,
   "metadata": {},
   "outputs": [],
   "source": [
    "adoption = engagement.sort_index().groupby('user_id').rolling('7D').visited.sum()"
   ]
  },
  {
   "cell_type": "code",
   "execution_count": 7,
   "metadata": {
    "scrolled": true
   },
   "outputs": [],
   "source": [
    "    adopted_users = adoption[adoption >= 3].index.get_level_values(0).unique().to_numpy()"
   ]
  },
  {
   "cell_type": "code",
   "execution_count": 8,
   "metadata": {},
   "outputs": [],
   "source": [
    "users['adopted_user'] = 0\n",
    "users.loc[adopted_users, 'adopted_user'] = 1"
   ]
  },
  {
   "cell_type": "code",
   "execution_count": 77,
   "metadata": {},
   "outputs": [
    {
     "data": {
      "text/plain": [
       "0.1335"
      ]
     },
     "execution_count": 77,
     "metadata": {},
     "output_type": "execute_result"
    }
   ],
   "source": [
    "# Base Adoption Rate\n",
    "\n",
    "num_users = users.size\n",
    "num_adopted_users = users[users.adopted_user == 1].size\n",
    "\n",
    "num_adopted_users / num_users"
   ]
  },
  {
   "cell_type": "code",
   "execution_count": 80,
   "metadata": {},
   "outputs": [
    {
     "data": {
      "text/plain": [
       "0.13827655310621242"
      ]
     },
     "execution_count": 80,
     "metadata": {},
     "output_type": "execute_result"
    }
   ],
   "source": [
    "# Adoption Rate when on the Mailing List\n",
    "\n",
    "num_mailing_list = users[users.opted_in_to_mailing_list == 1].size\n",
    "num_adopted_mailing_list = users[(users.adopted_user == 1) & (users.opted_in_to_mailing_list == 1)].size\n",
    "\n",
    "num_adopted_mailing_list / num_mailing_list"
   ]
  },
  {
   "cell_type": "code",
   "execution_count": 81,
   "metadata": {},
   "outputs": [
    {
     "data": {
      "text/plain": [
       "0.13727678571428573"
      ]
     },
     "execution_count": 81,
     "metadata": {},
     "output_type": "execute_result"
    }
   ],
   "source": [
    "# Adoption Rate when Enabled for Marketing Drip\n",
    "\n",
    "num_marketing = users[users.enabled_for_marketing_drip == 1].size\n",
    "num_adopted_marketing = users[(users.adopted_user == 1) & (users.enabled_for_marketing_drip == 1)].size\n",
    "\n",
    "num_adopted_marketing / num_marketing"
   ]
  },
  {
   "cell_type": "code",
   "execution_count": 12,
   "metadata": {},
   "outputs": [],
   "source": [
    "users['invited_by_adopted_user'] = users.invited_by_user_id.apply(lambda x: users.loc[x].adopted_user == 1 \\\n",
    "                                                                                if not np.isnan(x) else False)\n",
    "users['invited_by_adopted_user'] = users['invited_by_adopted_user'].astype(int)"
   ]
  },
  {
   "cell_type": "code",
   "execution_count": 78,
   "metadata": {},
   "outputs": [
    {
     "data": {
      "text/plain": [
       "0.2056932966023875"
      ]
     },
     "execution_count": 78,
     "metadata": {},
     "output_type": "execute_result"
    }
   ],
   "source": [
    "# Adoption Rate when invited by an Adopted User\n",
    "\n",
    "num_invited_by_adopted_users = users[users.invited_by_adopted_user == 1].size\n",
    "num_adopted_users_invited_by_adopted_users = users[(users.adopted_user == 1) & (users.invited_by_adopted_user == 1)].size\n",
    "\n",
    "num_adopted_users_invited_by_adopted_users / num_invited_by_adopted_users"
   ]
  },
  {
   "cell_type": "code",
   "execution_count": 99,
   "metadata": {},
   "outputs": [
    {
     "data": {
      "image/png": "[encoded data removed]",
      "text/plain": [
       "<Figure size 432x288 with 1 Axes>"
      ]
     },
     "metadata": {
      "needs_background": "light"
     },
     "output_type": "display_data"
    }
   ],
   "source": [
    "sources = users.groupby('creation_source')\n",
    "adoption_rate = sources.adopted_user.sum() / sources.adopted_user.size() * 100\n",
    "adoption_rate.plot(kind='bar', label='Source Adoption %')\n",
    "plt.axhline(13.35, c='r', label='Avg. Adoption %')\n",
    "plt.title('Adoption Rate of User Account Creation Sources')\n",
    "plt.xlabel('Source')\n",
    "plt.ylabel('Adoption %')\n",
    "_ = plt.legend()"
   ]
  },
  {
   "cell_type": "code",
   "execution_count": 92,
   "metadata": {},
   "outputs": [],
   "source": [
    "users['email_host'] = users.email.str.split('@').apply(lambda x: x[1])"
   ]
  },
  {
   "cell_type": "code",
   "execution_count": 105,
   "metadata": {},
   "outputs": [
    {
     "data": {
      "text/plain": [
       "gmail.com         3562\n",
       "yahoo.com         2447\n",
       "jourrapide.com    1259\n",
       "cuvox.de          1202\n",
       "gustr.com         1179\n",
       "hotmail.com       1165\n",
       "mumdc.com            2\n",
       "dqwln.com            2\n",
       "xvnbr.com            2\n",
       "oqpze.com            2\n",
       "Name: email_host, dtype: int64"
      ]
     },
     "execution_count": 105,
     "metadata": {},
     "output_type": "execute_result"
    }
   ],
   "source": [
    "users.email_host.value_counts()[:10]"
   ]
  },
  {
   "cell_type": "code",
   "execution_count": 107,
   "metadata": {},
   "outputs": [],
   "source": [
    "common_hosts = ['gmail.com', 'yahoo.com', 'jourrapide.com', 'cuvox.de', 'gustr.com', 'hotmail.com']\n",
    "\n",
    "users.email_host = users.email_host.apply(lambda x: x if x in common_hosts else 'other')"
   ]
  },
  {
   "cell_type": "code",
   "execution_count": 108,
   "metadata": {
    "scrolled": true
   },
   "outputs": [
    {
     "data": {
      "image/png": "[encoded data removed]",
      "text/plain": [
       "<Figure size 432x288 with 1 Axes>"
      ]
     },
     "metadata": {
      "needs_background": "light"
     },
     "output_type": "display_data"
    }
   ],
   "source": [
    "hosts = users.groupby('email_host')\n",
    "adoption_rate = hosts.adopted_user.sum() / hosts.adopted_user.size() * 100\n",
    "adoption_rate.plot(kind='bar', label='Host Adoption %')\n",
    "plt.axhline(13.35, c='r', label='Avg. Adoption %')\n",
    "plt.title('Adoption Rate of User Account Email Hosts')\n",
    "plt.xlabel('Host')\n",
    "plt.ylabel('Adoption %')\n",
    "_ = plt.legend()"
   ]
  },
  {
   "cell_type": "code",
   "execution_count": null,
   "metadata": {},
   "outputs": [],
   "source": [
    "users.to_csv('../data/clean/users.csv')"
   ]
  }
 ],
 "metadata": {
  "kernelspec": {
   "display_name": "Python 3",
   "language": "python",
   "name": "python3"
  },
  "language_info": {
   "codemirror_mode": {
    "name": "ipython",
    "version": 3
   },
   "file_extension": ".py",
   "mimetype": "text/x-python",
   "name": "python",
   "nbconvert_exporter": "python",
   "pygments_lexer": "ipython3",
   "version": "3.7.3"
  }
 },
 "nbformat": 4,
 "nbformat_minor": 2
}
